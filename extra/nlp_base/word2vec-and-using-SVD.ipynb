{
 "cells": [
  {
   "cell_type": "code",
   "execution_count": 5,
   "metadata": {},
   "outputs": [],
   "source": [
    "import numpy as np\n",
    "import matplotlib.pyplot as plt\n",
    "from functools import reduce\n",
    "text = [\n",
    "    [\"the\", \"dog\", \"run\", ],\n",
    "    [\"a\", \"cat\", \"run\", ],\n",
    "    [\"a\", \"dog\", \"sleep\", ],\n",
    "    [\"the\", \"cat\", \"sleep\", ],\n",
    "    [\"a\", \"dog\", \"bark\", ],\n",
    "    [\"the\", \"cat\", \"meows\", ],\n",
    "    [\"the\", \"bird\", \"fly\", ],\n",
    "    [\"a\", \"bird\", \"sleep\", ],\n",
    "]\n",
    "\n",
    "\n",
    "def build_word_vector(text):\n",
    "    word2id = {w: i for i, w in enumerate(sorted(list(set(reduce(lambda a, b: a + b, text)))))}\n",
    "    id2word = {x[1]: x[0] for x in word2id.items()}\n",
    "    wvectors = np.zeros((len(word2id), len(word2id)))\n",
    "    for sentence in text:\n",
    "        for word1, word2 in zip(sentence[:-1], sentence[1:]):\n",
    "            id1, id2 = word2id[word1], word2id[word2]\n",
    "            wvectors[id1, id2] += 1\n",
    "            wvectors[id2, id1] += 1\n",
    "    return wvectors, word2id, id2word\n",
    "\n",
    "\n",
    "def cosine_sim(v1, v2):\n",
    "    return np.dot(v1, v2) / (np.sqrt(np.sum(np.power(v1, 2))) * np.sqrt(np.sum(np.power(v1, 2))))\n",
    "\n",
    "\n",
    "def visualize(wvectors, id2word):\n",
    "    np.random.seed(10)\n",
    "    fig = plt.figure()\n",
    "    U, sigma, Vh = np.linalg.svd(wvectors)\n",
    "    ax = fig.add_subplot(111)\n",
    "    ax.axis([-1, 1, -1, 1])\n",
    "    for i in id2word:\n",
    "        ax.text(U[i, 0], U[i, 1], id2word[i], alpha=0.3, fontsize=20)\n",
    "    plt.show()"
   ]
  },
  {
   "cell_type": "code",
   "execution_count": 6,
   "metadata": {},
   "outputs": [],
   "source": [
    "wvectors, word2id, id2word = build_word_vector(text)"
   ]
  },
  {
   "cell_type": "code",
   "execution_count": 8,
   "metadata": {},
   "outputs": [
    {
     "name": "stdout",
     "output_type": "stream",
     "text": [
      "[[ 0.  0.  1.  1.  2.  0.  0.  0.  0.  0.]\n",
      " [ 0.  0.  0.  0.  1.  0.  0.  0.  0.  0.]\n",
      " [ 1.  0.  0.  0.  0.  1.  0.  0.  1.  1.]\n",
      " [ 1.  0.  0.  0.  0.  0.  1.  1.  1.  2.]\n",
      " [ 2.  1.  0.  0.  0.  0.  0.  1.  1.  1.]\n",
      " [ 0.  0.  1.  0.  0.  0.  0.  0.  0.  0.]\n",
      " [ 0.  0.  0.  1.  0.  0.  0.  0.  0.  0.]\n",
      " [ 0.  0.  0.  1.  1.  0.  0.  0.  0.  0.]\n",
      " [ 0.  0.  1.  1.  1.  0.  0.  0.  0.  0.]\n",
      " [ 0.  0.  1.  2.  1.  0.  0.  0.  0.  0.]]\n"
     ]
    }
   ],
   "source": [
    "print (wvectors)"
   ]
  },
  {
   "cell_type": "code",
   "execution_count": 9,
   "metadata": {},
   "outputs": [
    {
     "name": "stdout",
     "output_type": "stream",
     "text": [
      "{'a': 0, 'bark': 1, 'bird': 2, 'cat': 3, 'dog': 4, 'fly': 5, 'meows': 6, 'run': 7, 'sleep': 8, 'the': 9}\n"
     ]
    }
   ],
   "source": [
    "print (word2id)"
   ]
  },
  {
   "cell_type": "code",
   "execution_count": 14,
   "metadata": {},
   "outputs": [
    {
     "name": "stdout",
     "output_type": "stream",
     "text": [
      "{0: 'a', 1: 'bark', 2: 'bird', 3: 'cat', 4: 'dog', 5: 'fly', 6: 'meows', 7: 'run', 8: 'sleep', 9: 'the'}\n"
     ]
    }
   ],
   "source": [
    "print(id2word)"
   ]
  },
  {
   "cell_type": "code",
   "execution_count": 19,
   "metadata": {},
   "outputs": [
    {
     "name": "stdout",
     "output_type": "stream",
     "text": [
      "[ 2.  1.  0.  0.  0.  0.  0.  1.  1.  1.]\n"
     ]
    }
   ],
   "source": [
    "print(wvectors[word2id[\"dog\"]])"
   ]
  },
  {
   "cell_type": "code",
   "execution_count": 13,
   "metadata": {},
   "outputs": [
    {
     "data": {
      "image/png": "[encoded data removed]",
      "text/plain": [
       "<matplotlib.figure.Figure at 0x7f349c04b0f0>"
      ]
     },
     "metadata": {},
     "output_type": "display_data"
    }
   ],
   "source": [
    "visualize(wvectors,id2word)"
   ]
  },
  {
   "cell_type": "code",
   "execution_count": null,
   "metadata": {
    "collapsed": true
   },
   "outputs": [],
   "source": []
  },
  {
   "cell_type": "code",
   "execution_count": null,
   "metadata": {
    "collapsed": true
   },
   "outputs": [],
   "source": []
  }
 ],
 "metadata": {
  "kernelspec": {
   "display_name": "Python 3",
   "language": "python",
   "name": "python3"
  },
  "language_info": {
   "codemirror_mode": {
    "name": "ipython",
    "version": 3
   },
   "file_extension": ".py",
   "mimetype": "text/x-python",
   "name": "python",
   "nbconvert_exporter": "python",
   "pygments_lexer": "ipython3",
   "version": "3.6.0"
  }
 },
 "nbformat": 4,
 "nbformat_minor": 2
}
